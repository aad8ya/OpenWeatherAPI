{
 "cells": [
  {
   "cell_type": "code",
   "execution_count": 14,
   "id": "canadian-reset",
   "metadata": {},
   "outputs": [
    {
     "name": "stdout",
     "output_type": "stream",
     "text": [
      "Enter the city - Coimbatore\n",
      "----------Coimbatore----------\n",
      "Temperature: 28.0 Celsius\n",
      "Humidity: 74 %\n",
      "Pressure: 1012 hPa\n",
      "Weather Report: light rain\n"
     ]
    }
   ],
   "source": [
    "import requests, json\n",
    "\n",
    "BASE_URL = \"https://api.openweathermap.org/data/2.5/weather?\"\n",
    "API_KEY = '57560f7a7622c33fd1fe41130cc0cf23'\n",
    "CITY = input(\"Enter the city - \")\n",
    "URL = BASE_URL + \"q=\" + CITY + \"&appid=\" + API_KEY\n",
    "\n",
    "response = requests.get(URL)\n",
    "if response.status_code == 200:\n",
    "    data = response.json()\n",
    "    main = data['main']\n",
    "    temperature = main['temp']\n",
    "    temperature = temperature - 273.15\n",
    "    humidity = main['humidity']\n",
    "    pressure = main['pressure']\n",
    "    report = data['weather']\n",
    "    print(f\"{CITY:-^30}\")\n",
    "    print(f\"Temperature: {temperature} Celsius\")\n",
    "    print(f\"Humidity: {humidity} %\")\n",
    "    print(f\"Pressure: {pressure} hPa\")\n",
    "    print(f\"Weather Report: {report[0]['description']}\")\n",
    "\n",
    "else:\n",
    "    print(\"Error in the HTTP request\")\n",
    "\n",
    "f= open(\"weatherReport.txt\",\"a\")\n",
    "f.write(f\"{CITY:-^30}\\n\")\n",
    "f.write(f\"Temperature: {temperature} Celsius\\n\")\n",
    "f.write(f\"Humidity: {humidity} %\\n\")\n",
    "f.write(f\"Pressure: {pressure} hPa\\n\")\n",
    "f.write(f\"Weather Report: {report[0]['description']}\\n\")\n",
    "f.close()"
   ]
  },
  {
   "cell_type": "code",
   "execution_count": null,
   "id": "latest-crossing",
   "metadata": {},
   "outputs": [],
   "source": []
  }
 ],
 "metadata": {
  "kernelspec": {
   "display_name": "Python 3",
   "language": "python",
   "name": "python3"
  },
  "language_info": {
   "codemirror_mode": {
    "name": "ipython",
    "version": 3
   },
   "file_extension": ".py",
   "mimetype": "text/x-python",
   "name": "python",
   "nbconvert_exporter": "python",
   "pygments_lexer": "ipython3",
   "version": "3.8.5"
  }
 },
 "nbformat": 4,
 "nbformat_minor": 5
}
